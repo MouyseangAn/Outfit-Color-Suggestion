{
 "cells": [
  {
   "cell_type": "markdown",
   "id": "99828be5-8ff7-437e-84f6-d257a1b794b3",
   "metadata": {
    "tags": []
   },
   "source": [
    "# Final Project Winter 2024\n",
    "### Name: Mouyseang An\n",
    "### Section: INFO 3100-2\n",
    "### Date: 3/10/2024\n"
   ]
  },
  {
   "cell_type": "markdown",
   "id": "4e6debdf-1483-4d52-a0b0-a7e3271a3a37",
   "metadata": {},
   "source": [
    "### **Import Libraries and Sources**\n"
   ]
  },
  {
   "cell_type": "code",
   "execution_count": 1,
   "id": "7fc8059d-306c-41a4-acd2-1468bb401d14",
   "metadata": {},
   "outputs": [],
   "source": [
    "import pandas as pd\n",
    "import numpy as np \n",
    "import matplotlib.pyplot as plt \n",
    "import sqlite3\n",
    "import random\n",
    "from datetime import datetime"
   ]
  },
  {
   "cell_type": "markdown",
   "id": "5d243dbc-2bbc-434d-9a19-a19c97a1ff94",
   "metadata": {
    "tags": []
   },
   "source": [
    "### **Color Dictionaries** "
   ]
  },
  {
   "cell_type": "code",
   "execution_count": 2,
   "id": "1289ce4a-efdb-4800-bd99-926baea0a2b4",
   "metadata": {
    "tags": []
   },
   "outputs": [],
   "source": [
    "#Color references from SchemeColor\n",
    "#Extract the color that best suit the personal color                \n",
    "ColorPalettes= {\n",
    "    \"Spring\":{\"Casual\":{\"Top\":\n",
    "                        {\"Rose\":\"#FDE4DE\", \"Light Green\":\"#D0E69E\",\"Light Yellow\":\"#F8F2BB\",\n",
    "                          \"Pastel Purple\":\"#B19CD9\", \"Pastel Yellow\":\"#FDFD96\",\"Blue Jeans\": \"#57B2E8\"\n",
    "                        ,\"Pink\":\"#FF8BA0\", \"Timberwolf\":\"#D3E5CF\", \"Raspberry\":\"#E40A5B\",\"Pastel Green\": \"#77DF78\"},\n",
    "                    \n",
    "                        \"Dress\":{\"Rose\":\"#FDE4DE\", \"Light Green\":\"#D0E69E\",\"Light Yellow\":\"#F8F2BB\",\n",
    "                          \"Pastel Purple\":\"#B19CD9\", \"Pastel Yellow\":\"#FDFD96\",\"Blue Jeans\":\"#57B2E8\"\n",
    "                        ,\"Pink\":\"#FF8BA0\", \"Timberwolf\":\"#D3E5CF\", \"Raspberry\":\"#E40A5B\",\"Pastel Green\": \"#77DF78\"},\n",
    "                    \n",
    "                        \"Bottom\":{\"Light Wash Denim\": \"#B0C4DE\",\"Vintage Black Denim\": \"#3D3C3A\",\"Faded Black\": \"#545454\",\n",
    "                                   \"Classic Denim Blue\": \"#0F4C81\",\"Charcoal Gray\":\"#36454F\",\"Earthy Olive\": \"#708238\"}},        \n",
    "              \"Party\":{\"Top\": \n",
    "                       {\"Light Rose\": \"#FFC0CB\", \"Tangerine\": \"#F28500\", \"Peach\":\"#FFE5B4\",\"Sky Blue\":\"#87CEEB\",\n",
    "                        \"Lemon Yellow\":\"#FFF44F\",\"Soft Lavender\": \"#E6E6FA\", \"Turquoise\": \"#40E0D0\"},\n",
    "                       \n",
    "                        \"Dress\":{\"Light Rose\": \"#FFC0CB\", \"Tangerine\": \"#F28500\", \"Peach\":\"#FFE5B4\",\"Sky Blue\":\"#87CEEB\",\n",
    "                           \"Lemon Yellow\":\"#FFF44F\",\"Soft Lavender\": \"#E6E6FA\", \"Turquoise\": \"#40E0D0\"},\n",
    "                        \n",
    "                        \"Bottom\":{\"Navy Blue\": \"#000080\",\"Metallic Silver\": \"#C0C0C0\", \"Rich Burgundy\": \"#800020\",\n",
    "                                   \"Vintage Black Denim\": \"#3D3C3A\",\"Faded Black\": \"#545454\"}},\n",
    "              \"Beach\":{\"Top\":\n",
    "                       {\"Sky Blue\": \"#87CEEB\", \"Light Pink\": \"#FFB6C1\",\"Powder Blue\":\"#B0E0E6\", \"Lavender\": \"#E6E6FA\",\n",
    "                       \"Soft Coral\": \"#F88379\",\"Mint Green\": \"#98FF98\"},\n",
    "                      \n",
    "                    \"Dress\":{\"Sky Blue\": \"#87CEEB\", \"Light Pink\": \"#FFB6C1\",\"Powder Blue\":\"#B0E0E6\", \"Lavender\": \"#E6E6FA\",\n",
    "                       \"Soft Coral\": \"#F88379\",\"Mint Green\": \"#98FF98\"},\n",
    "                        \n",
    "                    \"Bottom\":{\"Sky Blue\": \"#87CEEB\",\"Sandy Beige\": \"#F4A460\",\"Aqua Marine\": \"#7FFFD4\",\"Coral\": \"#FF7F50\",\n",
    "                               \"Seafoam Green\": \"#93E9BE\",\"Sunset Orange\": \"#FD5E53\",\"Khaki\": \"#F0E68C\",\"Beige\":\"#F5F5DC\"}}},                    \n",
    "                               \n",
    "    \"Autumn\": {\"Casual\":{\"Top\":\n",
    "                         {\"Cream \":\"#FFFDD3\", \" White\" : \"#FFFFFB\", \" Avocado\": \"#4E7214\", \n",
    "                           \"Green Sheen\": \"#7BB5A2\",\"Beaver\":\"#A18B69\", \"Deep Space\" : \"#446072\" ,\n",
    "                           \"Earth Brown\": \"#5D3B28\", \" Gray\": \"#7F8378\",  \"Silver Pink\": \"#BEB4A7\",\"Yankees Blue\": \"#1B2740\"},\n",
    "                        \n",
    "                        \"Dress\":{\"Cream \":\"#FFFDD3\", \" White\" : \"#FFFFFB\", \"Avocado\": \"#4E7214\", \n",
    "                           \"Green Sheen\": \"#7BB5A2\",\"Beaver\":\"#A18B69\", \"Deep Space\" : \"#446072\" ,\n",
    "                           \"Earth Brown\": \"#5D3B28\", \"Gray\": \"#7F8378\",  \"Silver Pink\": \"#BEB4A7\",\"Yankees Blue\": \"#1B2740\"},\n",
    "                               \n",
    "                        \"Bottom\": {\"Burnt Sienna\": \"#E97451\",\"Light Wash Denim\": \"#B0C4DE\",\"Vintage Black Denim\": \"#3D3C3A\",\"Faded Black\": \"#545454\",\n",
    "                                   \"Classic Denim Blue\": \"#0F4C81\",\"Charcoal Gray\":\"#36454F\",\"Earthy Olive\": \"#708238\"}},          \n",
    "                        \n",
    "               \"Party\":{\"Top\":{\"Maroon\":\"#800000\",\"Dark Olive Green\": \"#556B2F\",\"Saddle Brown\":\"#8B4513\",\"Chocolate\":\"#D2691E\",\"Sienna\": \"#A0522D\"\n",
    "                         ,\"Dark Goldenrod\": \"#B8860B\", \"Midnight Blue\": \"#191970\",\"Indigo\": \"#4B0082\",\"Dark Slate Gray\": \"#2F4F4F\"}, \n",
    "                        \n",
    "                        \"Dress\":{\"Maroon\":\"#800000\",\"Dark Olive Green\": \"#556B2F\",\"Saddle Brown\":\"#8B4513\",\"Chocolate\":\"#D2691E\",\"Sienna\": \"#A0522D\"\n",
    "                         ,\"Dark Goldenrod\": \"#B8860B\", \"Midnight Blue\": \"#191970\",\"Indigo\": \"#4B0082\",\"Dark Slate Gray\": \"#2F4F4F\"}, \n",
    "                        \n",
    "                        \"Bottom\":{\"Navy Blue\": \"#000080\",\"Metallic Silver\": \"#C0C0C0\", \"Rich Burgundy\": \"#800020\",\n",
    "                                   \"Vintage Black Denim\": \"#3D3C3A\",\"Faded Black\": \"#545454\"}},      \n",
    "                         \n",
    "               \"Beach\":{\"Top\":{\"Peach\": \"#FFDAB9\",\"Teal\":\"#008080\",\"Sandy Brown\": \"#F4A460\", \"Blue\":\"#87CEEB\", \"Coral\": \"#FF7F50\", \"Khaki\": \"#F0E68C\",\n",
    "                        \"Wheat\":\"#F5DEB3\"},\n",
    "                    \n",
    "                        \"Dress\":{\"Peach\": \"#FFDAB9\",\"Teal\":\"#008080\",\"Sandy Brown\": \"#F4A460\", \"Blue\":\"#87CEEB\", \"Coral\": \"#FF7F50\", \"Khaki\": \"#F0E68C\",\n",
    "                        \"Wheat\":\"#F5DEB3\"},\n",
    "                        \n",
    "                        \"Bottom\":{\"Warm Sand\":\"#C2B280\",\"Navy Blue\": \"#000080\",\"Olive Green\": \"#708238\",\"Teal\":\"#008080\"}}},      \n",
    "      \n",
    "    \"Summer\": {\"Casaul\":\n",
    "                   {\"Top\": {\"Piggy Pink\": \"#FAE0E6\" , \"Linen\": \"#FAEEEA\", \"Ivory\":\"#FEFEF0\", \"Pale Blue\":\"#B3EAF3\",\"Light Sea Green\":\"#20B2AA\",\n",
    "                       \"Tea Green\" : \"#C5ECD1\", \"Purple\": \"#D2C0EE\", \"Light Orange\": \"#FED8B2\", \"Nyanza\": \"#E5FADC\"\n",
    "                       , \" White Coffee \": \"#E7E3D5\", \"Khaki\": \"#F0E68\"},\n",
    "                \n",
    "                    \"Dress\":{\"Piggy Pink\": \"#FAE0E6\" , \"Linen\": \"#FAEEEA\", \"Ivory\":\"#FEFEF0\", \"Pale Blue\":\"#B3EAF3\",\"Light Sea Green\":\"#20B2AA\",\n",
    "                       \"Tea Green\" : \"#C5ECD1\", \"Purple\": \"#D2C0EE\", \"Light Orange\": \"#FED8B2\", \"Nyanza\": \"#E5FADC\"\n",
    "                       , \" White Coffee \": \"#E7E3D5\", \"Khaki\": \"#F0E68\"},\n",
    "                \n",
    "                    \"Bottom\":{\"Light Wash Denim\": \"#B0C4DE\",\"Vintage Black Denim\": \"#3D3C3A\",\"Faded Black\": \"#545454\",\n",
    "                                   \"Classic Denim Blue\": \"#0F4C81\",\"Charcoal Gray\":\"#36454F\",\"Earthy Olive\": \"#708238\"}},\n",
    "                \n",
    "                \"Party\":\n",
    "                     {\"Top\":{\"Deep Turquoise\": \"#00CED1\", \"Cobalt Blue\":\"#0047AB\",\"Emerald Green\": \"#50C878\"\n",
    "                         ,\"Ruby Red\":\"#9B111E\", \"Burnt Orange\": \"#CC5500\", \"Dark Orchid\": \"#9932CC\"},\n",
    "                    \n",
    "                    \"Dress\":{\"Deep Turquoise\": \"#00CED1\", \"Cobalt Blue\":\"#0047AB\",\"Emerald Green\": \"#50C878\"\n",
    "                         ,\"Ruby Red\":\"#9B111E\", \"Burnt Orange\": \"#CC5500\", \"Dark Orchid\": \"#9932CC\"},\n",
    "                     \n",
    "                     \"Bottom\":{\"Navy Blue\": \"#000080\",\"Metallic Silver\": \"#C0C0C0\", \"Rich Burgundy\": \"#800020\",\n",
    "                                   \"Vintage Black Denim\": \"#3D3C3A\",\"Faded Black\": \"#545454\"}},     \n",
    "                \"Beach\":\n",
    "                      {\"Top\":{\"Turquoise\":\"#30D5C8\", \"Coral\":\"#FF7F50\", \"Sky Blue\":\"#87CEEB\",\"Seafoam Green\": \"#93E9BE\",\"Pale Pink\": \"#FADADD\",\n",
    "                            \"Powder Blue\": \"#B0E0E6\",\"Lavender\":\"#E6E6FA\",\"Light Coral\": \"#F08080\"},           \n",
    "                     \n",
    "                        \"Dress\":{\"Turquoise\":\"#30D5C8\", \"Coral\":\"#FF7F50\", \"Sky Blue\":\"#87CEEB\",\"Seafoam Green\": \"#93E9BE\",\"Pale Pink\": \"#FADADD\",\n",
    "                            \"Powder Blue\": \"#B0E0E6\",\"Lavender\":\"#E6E6FA\",\"Light Coral\": \"#F08080\"},\n",
    "                 \n",
    "                        \"Bottom\":{\"Sky Blue\": \"#87CEEB\",\"Sandy Beige\": \"#F4A460\",\"Aqua Marine\": \"#7FFFD4\",\"Coral\": \"#FF7F50\",\n",
    "                               \"Seafoam Green\": \"#93E9BE\",\"Sunset Orange\": \"#FD5E53\",\"Khaki\": \"#F0E68C\",\"Beige\":\"#F5F5DC\"}}},\n",
    "                \n",
    "    \"Winter\":{\"Casual\": \n",
    "                  {\"Top\": {\"True Red\": \"#FF0000\", \"Black\": \"#000000\", \"White:\": \"#FFFFFF\", \"Icy Blue \": \"#AFEEEE\", \" Charcoal Grey\":\"#36454F\", \n",
    "               \"Ruby Red \": \"#9B111E\", \"Pine Green:\": \"#01796F\", \"Deep Purple \": \"#673AB7\", \"Hot Pink\": \"#FF69B\", \"Bright Turquoise\": \"#40E0D0\"},\n",
    "                   \n",
    "                   \"Dress\":{\"True Red\": \"#FF0000\", \"Black \": \"#000000\", \"White: \": \"#FFFFFF\", \"Icy Blue\": \"#AFEEEE\", \" Charcoal Grey\":\"#36454F\", \n",
    "               \"Ruby Red \": \"#9B111E\", \"Pine Green:\": \"#01796F\", \"Deep Purple\": \"#673AB7\", \"Hot Pink \": \"#FF69B\", \"Bright Turquoise\": \"#40E0D0\"},\n",
    "                \n",
    "                    \"Bottom\":{\"Light Wash Denim\": \"#B0C4DE\",\"Vintage Black Denim\": \"#3D3C3A\",\"Faded Black\": \"#545454\",\n",
    "                                   \"Classic Denim Blue\": \"#0F4C81\",\"Charcoal Gray\":\"#36454F\",\"Earthy Olive\": \"#708238\"}},\n",
    "              \"Party\":\n",
    "                     {\"Top\": {\"Midnight Blue\": \"#191970\",\"Charcoal Grey\": \"#36454F\",\"Burgundy\": \"#800020\",\"Plum\": \"#8E4585\",\"Deep Purple\": \"#673AB7\",\n",
    "                       \"Ruby Red\":\"#9B111E\", \"Dark Teal\": \"#004B49\",\"Hunter Green\":\"#355E3B\"},\n",
    "                    \n",
    "                    \"Dress\":{\"Midnight Blue\": \"#191970\",\"Charcoal Grey\": \"#36454F\",\"Burgundy\": \"#800020\",\"Plum\": \"#8E4585\",\"Deep Purple\": \"#673AB7\",\n",
    "                       \"Ruby Red\":\"#9B111E\", \"Dark Teal\": \"#004B49\",\"Hunter Green\":\"#355E3B\"},\n",
    "                \n",
    "                    \"Bottom\":{\"Midnight Blue\": \"#191970\" ,\"Emerald Green\": \"#50C878\",\"Gunmetal Gray\": \"#2a3439\",\"Metallic Silver\": \"#C0C0C0\"\n",
    "                               ,\"Faded Black\": \"#545454\",\"Vintage Black Denim\": \"#3D3C3A\"}},\n",
    "                \n",
    "              \"Beach\":{\"Top\": {\"Icy Blue\": \"#AFEEEE\",\"Silver\": \"#C0C0C0\", \"Cool Lavender\":\"#E6E6FA\", \"Mint Green\": \"#98FF98\",\n",
    "                       \"Powder Blue\": \"#B0E0E6\",\"Soft Coral\": \"#F88379\", \"Light Grey\": \"#D3D3D3\", \"Sky Blue\": \"#87CEEB\"},              \n",
    "                     \n",
    "                     \"Dress\":{\"Icy Blue\": \"#AFEEEE\",\"Silver\": \"#C0C0C0\", \"Cool Lavender\":\"#E6E6FA\", \"Mint Green\": \"#98FF98\",\n",
    "                       \"Powder Blue\": \"#B0E0E6\",\"Soft Coral\": \"#F88379\", \"Light Grey\": \"#D3D3D3\", \"Sky Blue\": \"#87CEEB\"},               \n",
    "                \n",
    "                    \"Bottom\":{\"Deep Navy\": \"#000080\",\"Burgundy\": \"#800020\",\"Forest Green\": \"#228B22\",\n",
    "                               \"Teal\": \"#008080\",\"Plum\": \"#DDA0DD\",\"Charcoal\": \"#36454F\"}}}}"
   ]
  },
  {
   "cell_type": "markdown",
   "id": "fa903e1b-32cb-423a-b473-5ea814a09c0b",
   "metadata": {},
   "source": [
    "### **User Interaction**"
   ]
  },
  {
   "cell_type": "code",
   "execution_count": 3,
   "id": "857a1c7e-8ff4-4efe-96ab-9e9a078d6185",
   "metadata": {},
   "outputs": [],
   "source": [
    "def UserInput():\n",
    "        UserConsent = input(\"WELCOME TO COLOR ADVISOR\\nWe will ask you a few questions before we process to give you the color recommendation. Would that be okay for you?(Yes/No) \\n\").capitalize()\n",
    "        if UserConsent != \"Yes\":\n",
    "            print(\"You have choosen to exit the application. Thank you!\")\n",
    "            return None \n",
    "        UserName = input(\"What is your name?\")\n",
    "        UserAnswer = input(f\"{UserName}, Do you have your own personal color (Yes/No)?\").capitalize()\n",
    "        \n",
    "        if UserAnswer == \"Yes\":\n",
    "            UserSeasonColor = input(\"Please enter your personal color(Spring, Autumn, Summer, Winter): \").capitalize()\n",
    "            UserOccasion = input(\"Please let me know your occasion (Party,Beach or Casual): \").capitalize()\n",
    "            UserClotheType = input(\"Are you looking for recommendation for Top,Bottom or Dress?\").capitalize()\n",
    "        \n",
    "        elif UserAnswer == \"No\": \n",
    "            UserSeasonColor = input(\"Which seasonal color do you like the most (Spring, Autumn, Summer, Winter)\").capitalize() #User Preference season, if they put the one of the season color, then it will assume the user preference similar to season personal color in dictionaries \n",
    "            UserOccasion = input(\"Please let me know your occasion (Party,Beach or Casual): \").capitalize()\n",
    "            UserClotheType = input(\"Are you looking for recommendation for Top,bottom or Dress?\").capitalize()\n",
    "        \n",
    "        else:\n",
    "            print(\"Please enter the correct color season again. Thank you:)\")\n",
    "            return None\n",
    "        return UserName,UserSeasonColor,UserOccasion,UserClotheType   \n"
   ]
  },
  {
   "cell_type": "markdown",
   "id": "c5106966-01fd-4e02-8544-455993af799c",
   "metadata": {},
   "source": [
    "### **Color Suggestion Function**"
   ]
  },
  {
   "cell_type": "code",
   "execution_count": 4,
   "id": "cf267462-5b47-4060-b13c-bc724d2cf513",
   "metadata": {
    "tags": []
   },
   "outputs": [],
   "source": [
    "def ColorSuggestion(UserSeasonColor,UserOccasion,UserClotheType):\n",
    "    try: \n",
    "        UserColorInDictionary = ColorPalettes[UserSeasonColor][UserOccasion][UserClotheType]\n",
    "        ColorList = list(UserColorInDictionary.items())\n",
    "        RecommendedColors = random.sample(ColorList, min(len(ColorList), 3)) \n",
    "        return RecommendedColors\n",
    "    except KeyError:\n",
    "        print(\"Please enter your season color, occasion and clothe type correctly to get the right suggestion. Thank you.\") \n",
    "        return None   \n"
   ]
  },
  {
   "cell_type": "markdown",
   "id": "5e492555-e202-4dd4-b624-4beba55f6f4b",
   "metadata": {},
   "source": [
    "### **Display Color Suggestions**"
   ]
  },
  {
   "cell_type": "code",
   "execution_count": 5,
   "id": "33b6fdcc-b03c-4a87-9d4c-57a9736c2a2e",
   "metadata": {},
   "outputs": [],
   "source": [
    "def DisplayColorSuggestion(RecommendedColors,UserSeasonColor,UserOccasion,UserClotheType):\n",
    "    if not RecommendedColors:\n",
    "        print(\"No Color to Display\") \n",
    "        return None\n",
    "    \n",
    "    NameOfColor =[Color[0] for Color in RecommendedColors]\n",
    "    ColorCode =[Color[1] for Color in RecommendedColors]\n",
    "    plt.figure(figsize = (7,6))\n",
    "    plt.bar(NameOfColor, [1]*len(ColorCode), color=ColorCode)\n",
    "    plt.xticks(rotation = 45)\n",
    "    plt.ylabel(\"Name of Color\") \n",
    "    plt.title(f\"Color Sugguestions for {UserClotheType} for {UserOccasion} Style in {UserSeasonColor}\") \n",
    "    plt.show()"
   ]
  },
  {
   "cell_type": "markdown",
   "id": "990d5a21-89ca-45e6-8023-616bcba46bea",
   "metadata": {},
   "source": [
    "### **Storing User Data**"
   ]
  },
  {
   "cell_type": "code",
   "execution_count": 6,
   "id": "aad880b6-647a-4bb6-92f4-5b4da51c4b0a",
   "metadata": {
    "tags": []
   },
   "outputs": [],
   "source": [
    "#Reference John Watson Rooney from Youtube \n",
    "def CreateDatabase():\n",
    "    connection = sqlite3.connect(\"ColorAdvisorUserResult.db\")\n",
    "    cursor = connection.cursor() #create from connect and execute the command on the database\n",
    "    cursor.execute('''CREATE TABLE IF NOT EXISTS ColorAdvisorUserResult\n",
    "                    (Time Text, UserName Text, SeasonColor Text, Occasion Text, ClotheType Text, RecommendedColors Text)\n",
    "                    ''')\n",
    "    connection.commit() #ensure the table is save\n",
    "    connection.close()\n",
    "    \n",
    "def UserSaveResult(UserName, SeasonColor,Occasion,ClotheType,RecommendedColors):    \n",
    "    connection = sqlite3.connect(\"ColorAdvisorUserResult.db\")\n",
    "    cursor = connection.cursor() \n",
    "    cursor.execute(\"INSERT INTO ColorAdvisorUserResult VALUES(?,?,?,?,?,?)\", (datetime.now().strftime(\"%Y-%m-%d %H:%M:%S\"),UserName,SeasonColor,Occasion, ClotheType, \",\".join(RecommendedColors)))\n",
    "    connection.commit()\n",
    "    connection.close()\n",
    "    \n",
    "\n",
    "def HistoryCheck(UserName):\n",
    "    connection = sqlite3.connect(\"ColorAdvisorUserResult.db\")\n",
    "    cursor = connection.cursor() \n",
    "    cursor.execute(\"SELECT * FROM ColorAdvisorUserResult WHERE UserName =?\", (UserName,))\n",
    "    Result = cursor.fetchall() #bring back all row of the query result\n",
    "    connection.close()\n",
    "    return Result\n",
    "\n",
    "def UserHistoryCheck():\n",
    "    UserName = input(\"Please enter your name to check your saved history in the record: \") \n",
    "    UserHistoryRecord = HistoryCheck(UserName)\n",
    "    if UserHistoryRecord: \n",
    "        for table in UserHistoryRecord:\n",
    "            print(f\"Time:{table[0]},UserName: {table[1]}, SeasonColor: {table[2]}, Occasion:{table[3]},ClotheType: {table[4]},RecommendedColors: {table[5]}\")\n",
    "    else:\n",
    "        print(\"There is no record of your saved data. Please check your name correctly!\")\n",
    "                  "
   ]
  },
  {
   "cell_type": "markdown",
   "id": "3d0f0cd1-b6c0-4c42-8aaa-25cff0f82455",
   "metadata": {
    "tags": []
   },
   "source": [
    "### **Main Application**"
   ]
  },
  {
   "cell_type": "code",
   "execution_count": 7,
   "id": "7af563cc-a49f-4de4-9f38-8eb95da153dc",
   "metadata": {
    "tags": []
   },
   "outputs": [
    {
     "name": "stdin",
     "output_type": "stream",
     "text": [
      "WELCOME TO COLOR ADVISOR\n",
      "We will ask you a few questions before we process to give you the color recommendation. Would that be okay for you?(Yes/No) \n",
      " yes\n",
      "What is your name? s\n",
      "s, Do you have your own personal color (Yes/No)? yes\n",
      "Please enter your personal color(Spring, Autumn, Summer, Winter):  Spring\n",
      "Please let me know your occasion (Party,Beach or Casual):  Party\n",
      "Are you looking for recommendation for Top,Bottom or Dress? Top\n"
     ]
    },
    {
     "data": {
      "image/png": "[encoded data removed]",
      "text/plain": [
       "<Figure size 700x600 with 1 Axes>"
      ]
     },
     "metadata": {},
     "output_type": "display_data"
    },
    {
     "name": "stdout",
     "output_type": "stream",
     "text": [
      "[('2024-07-08 19:15:40', 's', 'Spring', 'Party', 'Top', 'Sky Blue,Soft Lavender,Lemon Yellow'), ('2024-08-01 20:03:22', 's', 'Spring', 'Party', 'Top', 'Lemon Yellow,Soft Lavender,Tangerine')]\n"
     ]
    }
   ],
   "source": [
    "def main():\n",
    "    CreateDatabase()\n",
    "    UserInputResult = UserInput()\n",
    "    if UserInputResult:\n",
    "        UserName,UserSeasonColor,UserOccasion,UserClotheType = UserInputResult\n",
    "        RecommendedColors =  ColorSuggestion(UserSeasonColor,UserOccasion,UserClotheType)\n",
    "        if RecommendedColors:\n",
    "            DisplayColorSuggestion(RecommendedColors, UserSeasonColor,UserOccasion, UserClotheType)\n",
    "            RecommendedColorsName = [Color[0] for Color in RecommendedColors]\n",
    "            UserSaveResult(UserName,UserSeasonColor, UserOccasion,UserClotheType, RecommendedColorsName)\n",
    "            print(HistoryCheck(UserName))\n",
    "if __name__ == \"__main__\":\n",
    "    main()"
   ]
  },
  {
   "cell_type": "code",
   "execution_count": 8,
   "id": "492add8e-6929-40a7-bc78-fd37b339bd44",
   "metadata": {
    "tags": []
   },
   "outputs": [
    {
     "name": "stdin",
     "output_type": "stream",
     "text": [
      "Please enter your name to check your saved history in the record:  s\n"
     ]
    },
    {
     "name": "stdout",
     "output_type": "stream",
     "text": [
      "Time:2024-07-08 19:15:40,UserName: s, SeasonColor: Spring, Occasion:Party,ClotheType: Top,RecommendedColors: Sky Blue,Soft Lavender,Lemon Yellow\n",
      "Time:2024-08-01 20:03:22,UserName: s, SeasonColor: Spring, Occasion:Party,ClotheType: Top,RecommendedColors: Lemon Yellow,Soft Lavender,Tangerine\n"
     ]
    }
   ],
   "source": [
    "UserHistoryCheck()"
   ]
  },
  {
   "cell_type": "code",
   "execution_count": null,
   "id": "15e2d23e-2702-4d07-afbc-426e8be234db",
   "metadata": {},
   "outputs": [],
   "source": []
  }
 ],
 "metadata": {
  "kernelspec": {
   "display_name": "Python 3 (ipykernel)",
   "language": "python",
   "name": "python3"
  },
  "language_info": {
   "codemirror_mode": {
    "name": "ipython",
    "version": 3
   },
   "file_extension": ".py",
   "mimetype": "text/x-python",
   "name": "python",
   "nbconvert_exporter": "python",
   "pygments_lexer": "ipython3",
   "version": "3.11.5"
  }
 },
 "nbformat": 4,
 "nbformat_minor": 5
}
